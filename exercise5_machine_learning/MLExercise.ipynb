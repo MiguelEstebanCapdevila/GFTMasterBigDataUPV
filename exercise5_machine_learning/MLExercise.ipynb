{
 "cells": [
  {
   "cell_type": "markdown",
   "metadata": {},
   "source": [
    "# GFT UPV MASTER ML Exercise"
   ]
  },
  {
   "cell_type": "markdown",
   "metadata": {},
   "source": [
    "#### Purpose of the exercise is to analize the data stored on Elastic , ploting some charts and doing a classification with scikit-learn "
   ]
  },
  {
   "cell_type": "markdown",
   "metadata": {},
   "source": [
    "Setup required libraries\n",
    "-------------------------------------------------------\n"
   ]
  },
  {
   "cell_type": "code",
   "execution_count": null,
   "metadata": {},
   "outputs": [],
   "source": [
    "pip install elasticsearch\n",
    "pip install matplotlib\n",
    "pip install sklearn"
   ]
  },
  {
   "cell_type": "markdown",
   "metadata": {},
   "source": [
    "Analyze Google stock price evolution\n",
    "-------------------------------------------------------"
   ]
  },
  {
   "cell_type": "markdown",
   "metadata": {},
   "source": [
    "1. First thing import Elastic search connector"
   ]
  },
  {
   "cell_type": "code",
   "execution_count": 4,
   "metadata": {},
   "outputs": [],
   "source": [
    "from datetime import datetime\n",
    "from elasticsearch import Elasticsearch\n",
    "es = Elasticsearch('elasticsearch:9200')"
   ]
  },
  {
   "cell_type": "markdown",
   "metadata": {},
   "source": [
    "2. Query all data from quotes index "
   ]
  },
  {
   "cell_type": "code",
   "execution_count": 5,
   "metadata": {},
   "outputs": [
    {
     "name": "stdout",
     "output_type": "stream",
     "text": [
      "Got 3106 Hits:\n"
     ]
    }
   ],
   "source": [
    "res = es.search(index=\"quotes\", body={\"query\": {\"match_all\": {}}}, size=10000)\n",
    "print(\"Got %d Hits:\" % res['hits']['total']['value'])"
   ]
  },
  {
   "cell_type": "markdown",
   "metadata": {},
   "source": [
    "3. Let's print content loaded form elastic quotes index. "
   ]
  },
  {
   "cell_type": "code",
   "execution_count": null,
   "metadata": {},
   "outputs": [],
   "source": [
    "for hit in res['hits']['hits']:\n",
    "    print( hit[\"_source\"])"
   ]
  },
  {
   "cell_type": "code",
   "execution_count": null,
   "metadata": {},
   "outputs": [],
   "source": [
    "for hit in res['hits']['hits']:\n",
    "    print(\"%(symbol)s %(latestTime)s: %(latestPrice)s\" % hit[\"_source\"])"
   ]
  },
  {
   "cell_type": "markdown",
   "metadata": {},
   "source": [
    "4. Load elastic output as Pandas dataframe"
   ]
  },
  {
   "cell_type": "code",
   "execution_count": null,
   "metadata": {},
   "outputs": [],
   "source": [
    "from pandas.io.json import json_normalize\n",
    "df = json_normalize(res['hits']['hits'])\n",
    "\n",
    "df.columns"
   ]
  },
  {
   "cell_type": "markdown",
   "metadata": {},
   "source": [
    "5. Plot  google stock price evolution"
   ]
  },
  {
   "cell_type": "code",
   "execution_count": null,
   "metadata": {},
   "outputs": [],
   "source": [
    "import matplotlib.pyplot as plt\n",
    "from datetime import datetime\n",
    "import numpy as np\n",
    "\n",
    "#df2 = df[ (df['_source.symbol']=='GOOG') & (df['_source.latestUpdate']< 1563300000000) &  (df['_source.latestUpdate']> 1563250000000) ]\n",
    "df2 = df[ (df['_source.symbol']=='GOOG')]\n",
    "#print( df2['_source.latestUpdate'].apply(lambda x : datetime.fromtimestamp(x/1000.0)))\n",
    "\n",
    "order = np.argsort(df2['_source.latestUpdate'])\n",
    "\n",
    "x = np.array(df2['_source.latestUpdate'].apply(lambda x : datetime.fromtimestamp(x/1000.0)))[order]\n",
    "y = np.array(df2['_source.latestPrice'])[order]\n",
    "                                      \n",
    "\n",
    "plt.plot(x,y)\n",
    "\n",
    "# beautify the x-labels\n",
    "plt.gcf().autofmt_xdate()\n",
    "\n",
    "plt.show()\n"
   ]
  },
  {
   "cell_type": "markdown",
   "metadata": {},
   "source": [
    "#### Exercise 1: Represent a plot of price change percent over Google and Uber "
   ]
  },
  {
   "cell_type": "code",
   "execution_count": null,
   "metadata": {},
   "outputs": [],
   "source": []
  },
  {
   "cell_type": "markdown",
   "metadata": {},
   "source": [
    "Create a clustering over companies sector  and ytd price evolution \n",
    "-------------------------------------------------------------------------"
   ]
  },
  {
   "cell_type": "markdown",
   "metadata": {},
   "source": [
    "1. Load sklearn module and encode companies sector as numbers"
   ]
  },
  {
   "cell_type": "code",
   "execution_count": null,
   "metadata": {},
   "outputs": [],
   "source": [
    "from sklearn import preprocessing\n",
    "\n",
    "leSector=preprocessing.LabelEncoder()\n",
    "\n",
    "leSector.fit(df['_source.industry'].astype(str))\n",
    "\n",
    "leSector.classes_\n"
   ]
  },
  {
   "cell_type": "markdown",
   "metadata": {},
   "source": [
    "2. Plot data distribution of sectors and year price evolution"
   ]
  },
  {
   "cell_type": "code",
   "execution_count": null,
   "metadata": {},
   "outputs": [],
   "source": [
    "plt.scatter(df['_source.marketCap'], df['_source.ytdChange'], c='black', s=1)"
   ]
  },
  {
   "cell_type": "markdown",
   "metadata": {},
   "source": [
    "3. Create a clustering of the data  to  classify companies"
   ]
  },
  {
   "cell_type": "code",
   "execution_count": null,
   "metadata": {},
   "outputs": [],
   "source": [
    "from mpl_toolkits.mplot3d import Axes3D\n",
    "from sklearn.cluster import KMeans\n",
    "from sklearn.datasets import make_blobs\n",
    "\n",
    "X = df[['_source.industry','_source.ytdChange']].copy()\n",
    "\n",
    "X['_source.industry'] = leSector.transform(df['_source.industry'].astype(str))\n",
    "\n",
    "\n",
    "# Initializing KMeans\n",
    "kmeans = KMeans(n_clusters=5)\n",
    "# Fitting with inputs\n",
    "kmeans = kmeans.fit(X[['_source.industry','_source.ytdChange']])\n",
    "\n",
    "labels = kmeans.predict(X[['_source.industry','_source.ytdChange']])\n",
    "# Getting the cluster centers\n",
    "C = kmeans.cluster_centers_\n",
    "\n",
    "plt.scatter(X['_source.industry'],X['_source.ytdChange'], c='black', s=1)\n",
    "plt.scatter(C[:, 0], C[:, 1], marker='*', c='blue', s=100)\n",
    "\n"
   ]
  },
  {
   "cell_type": "markdown",
   "metadata": {},
   "source": [
    "#### Exercise 2: Create a classifier over short term stock trending using latestVolume and changePercent"
   ]
  },
  {
   "cell_type": "markdown",
   "metadata": {},
   "source": [
    "1. Plot the data distribution to identify number of clusters"
   ]
  },
  {
   "cell_type": "code",
   "execution_count": null,
   "metadata": {},
   "outputs": [],
   "source": []
  },
  {
   "cell_type": "markdown",
   "metadata": {},
   "source": [
    "2. Create a classifier with the number of clusters you  see"
   ]
  },
  {
   "cell_type": "code",
   "execution_count": null,
   "metadata": {},
   "outputs": [],
   "source": []
  }
 ],
 "metadata": {
  "kernelspec": {
   "display_name": "Python 3",
   "language": "python",
   "name": "python3"
  },
  "language_info": {
   "codemirror_mode": {
    "name": "ipython",
    "version": 3
   },
   "file_extension": ".py",
   "mimetype": "text/x-python",
   "name": "python",
   "nbconvert_exporter": "python",
   "pygments_lexer": "ipython3",
   "version": "3.8.3"
  }
 },
 "nbformat": 4,
 "nbformat_minor": 2
}
